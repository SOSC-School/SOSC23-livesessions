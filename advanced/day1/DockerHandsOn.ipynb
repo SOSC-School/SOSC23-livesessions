{
 "cells": [
  {
   "cell_type": "markdown",
   "id": "4cecafaf-c651-4c82-8e08-62fde8e6641f",
   "metadata": {},
   "source": [
    "# Docker hands-on\n",
    "\n",
    "In this exercise we will build together the Docker image to be used in the next exercises.\n",
    "This will provide a nice excuse to go through some basic concepts of Docker and to practice with the syntax of the command-line tool and of the `Dockerfile`s."
   ]
  },
  {
   "cell_type": "markdown",
   "id": "943e2f03-8b20-4ea4-b9f3-f1a1bcfc745d",
   "metadata": {},
   "source": [
    "## Jupyter magics\n",
    "Jupyter notebooks are collections of `cells` that can contain either Code or annotations, usually in Markdown.\n",
    "The code cells are executed by a *Kernel*. You can check the name of the kernel (and its status) in the top-right corner of the notebook window.\n",
    "In this case, the kernel is `Python 3`.\n",
    "\n",
    "In addition to annotations and *Code* cells, it is possible to define special cells that are interpreted as code, but with a different *kernel* from the one used for the normal *Code* cells.\n",
    "\n",
    "For example, you may want to define a cell executed in `bash`. Then, you just need to use `%%bash` as the first line of a *Code* cell.\n",
    "\n",
    "\n"
   ]
  },
  {
   "cell_type": "code",
   "execution_count": 1,
   "id": "2e181fac-2ada-4d39-95f7-00fd930b0902",
   "metadata": {},
   "outputs": [
    {
     "name": "stdout",
     "output_type": "stream",
     "text": [
      "Ehy! This is bash!\n"
     ]
    }
   ],
   "source": [
    "%%bash \n",
    "echo \"Ehy! This is bash running in $PWD!\""
   ]
  },
  {
   "cell_type": "markdown",
   "id": "a590fcd1-a6ad-4c12-a502-0135111bc27d",
   "metadata": {},
   "source": [
    "These cell annotations are named **cell magic** and you can discover the most common through [the documentation](`https://ipython.readthedocs.io/en/stable/interactive/magics.html#cell-magics).\n",
    "\n",
    "In this notebook, we will use another **cell magic** to dump in a text file the content of the cell. \n",
    "For example, let's create a file containing a quote of Giosué Carducci on Perugia "
   ]
  },
  {
   "cell_type": "code",
   "execution_count": 2,
   "id": "0c5b1ae4-8ae4-4198-a20f-a0764fcf89bb",
   "metadata": {},
   "outputs": [
    {
     "name": "stdout",
     "output_type": "stream",
     "text": [
      "Overwriting OnPerugia.txt\n"
     ]
    }
   ],
   "source": [
    "%%writefile OnPerugia.txt\n",
    "\n",
    "Cosí fece in Perugia. Ove l’altera\n",
    "Mole ingombrava di vasta ombra il suol\n",
    "Or ride amore e ride primavera,\n",
    "Ciancian le donne ed i fanciulli al sol."
   ]
  },
  {
   "cell_type": "markdown",
   "id": "a39c61d0-0178-48c6-9b89-6ff6d2997a45",
   "metadata": {},
   "source": [
    "When the cell is executed, it automatically creates (or overwrite) a file named `OnPerugia.txt` and it dumps in the file the raw content of the cell.\n",
    "You can then read the content of the file in Python, or in any other language."
   ]
  },
  {
   "cell_type": "code",
   "execution_count": 3,
   "id": "9a5b7efb-8a70-48b3-aaad-33c6b3365d52",
   "metadata": {},
   "outputs": [
    {
     "name": "stdout",
     "output_type": "stream",
     "text": [
      "\n",
      "Cosí fece in Perugia. Ove l’altera\n",
      "Mole ingombrava di vasta ombra il suol\n",
      "Or ride amore e ride primavera,\n",
      "Ciancian le donne ed i fanciulli al sol.\n",
      "\n"
     ]
    }
   ],
   "source": [
    "print (open(\"OnPerugia.txt\").read())"
   ]
  },
  {
   "cell_type": "markdown",
   "id": "71d3d3d1-fec9-44a6-aada-0e8511e3c70c",
   "metadata": {},
   "source": [
    "## Setup docker\n",
    "Docker is based on a client-server communication. \n",
    "In our case, the docker server runs in the same container as the Jupyter notebook, but in general it can be in another container in the same machine or even in a different machine.\n",
    "\n",
    "To make sure the server (or `daemon`) part of docker is running in the container, you can use the command `ps | grep dockerd`.\n",
    "\n",
    "If the output is not empty, there is a good chance the `docker daemon` is running 😏"
   ]
  },
  {
   "cell_type": "code",
   "execution_count": 4,
   "id": "1048f582-8403-45bd-b753-3453222d9f69",
   "metadata": {},
   "outputs": [
    {
     "name": "stdout",
     "output_type": "stream",
     "text": [
      "     26 ?        00:00:27 dockerd\n"
     ]
    }
   ],
   "source": [
    "%%bash\n",
    "ps | grep dockerd || echo Error ignored."
   ]
  },
  {
   "cell_type": "markdown",
   "id": "1d522ce7-a40e-4c6b-a500-e5fd9490b410",
   "metadata": {},
   "source": [
    "Make sure you run the following cell to remove the variable `DOCKER_HOST`, if set by mistake.\n",
    "\n",
    "> **What's happening here?** The installation of the Docker in a docker container is rather cumbersome and not recommended, but it is good enough for practicing and for discussing things in a notebook, close to the commands that you can immediately run.\n",
    "After polishing and refining the setup, an environmental variable, `DOCKER_HOST`, may remain incorrectly set. "
   ]
  },
  {
   "cell_type": "code",
   "execution_count": 5,
   "id": "dc0422ed-6a95-40be-9982-4940d06a70cf",
   "metadata": {},
   "outputs": [],
   "source": [
    "import os \n",
    "if \"DOCKER_HOST\" in os.environ: del os.environ[\"DOCKER_HOST\"]"
   ]
  },
  {
   "cell_type": "markdown",
   "id": "335736f5-f9cd-457e-b838-67b457c7042c",
   "metadata": {},
   "source": [
    "## Images and containers\n",
    "Images are the abstract definition of the computing environment of a docker container. \n",
    "Multiple containers can be *spawned* from the same image, and *all* containers are spawned by an image.\n",
    "\n",
    "However, once the container is created and running it may evolve to a state which is different from the one defined in the image.\n",
    "For example, you can install an additional library in the container, whereas it is not available in the original image.\n",
    "\n",
    "However, every new container spawned from the original image will not contain the library you have added.\n",
    "\n",
    "In addition, in the cloud infrastructure, we tend to restart and possibly recreate the containers quite often. This destroy the internal state of the container and restores the original filesystem as defined in the image.\n",
    "\n",
    "In this sense, the filesystem and the data in a container are said to be **ephemeral**. If some data has to be made persistent to the lifecycle of a container, that must be stored **outside** of the container, as we will discuss later.\n",
    "\n",
    "Docker images can be downloaded from remote registries, such as [Dockerhub](https://hub.docker.com), [INFN harbor](https://harbor.cloud.infn.it) or even [GitLab](https://baltig.infn.it), if you are brave enough. Downloading an image is called to \"pull\" an image.\n"
   ]
  },
  {
   "cell_type": "markdown",
   "id": "8c3b1e98-5677-4e5e-a3e0-70d4f3639e2e",
   "metadata": {},
   "source": [
    "### List the local images and pull a remote one\n",
    "To practice a bit, let's list the images available locally."
   ]
  },
  {
   "cell_type": "code",
   "execution_count": 6,
   "id": "614ce5f0-ab7a-4d72-9b3e-de712e50b93c",
   "metadata": {},
   "outputs": [
    {
     "name": "stdout",
     "output_type": "stream",
     "text": [
      "REPOSITORY   TAG       IMAGE ID       CREATED          SIZE\n",
      "<none>       <none>    16e5e107c6ff   14 seconds ago   1.01GB\n",
      "custom_np    test      1c254538077c   37 minutes ago   1.12GB\n",
      "numpy        test      680b4389bfdb   37 minutes ago   1.12GB\n",
      "python       3.11      22c957c35e37   2 weeks ago      1.01GB\n",
      "python       latest    22c957c35e37   2 weeks ago      1.01GB\n"
     ]
    }
   ],
   "source": [
    "%%bash\n",
    "docker image list"
   ]
  },
  {
   "cell_type": "markdown",
   "id": "3f20e73d-9def-49e0-b0dd-9bfd21d46a8d",
   "metadata": {},
   "source": [
    "Then we pull (or download) the a public image from Dockerhub, for example `python:latest`."
   ]
  },
  {
   "cell_type": "code",
   "execution_count": 7,
   "id": "548b1fcf-fe6b-47d1-91aa-f281e9957d19",
   "metadata": {},
   "outputs": [
    {
     "name": "stdout",
     "output_type": "stream",
     "text": [
      "latest: Pulling from library/python\n",
      "Digest: sha256:cc7372fe4746ca323f18c6bd0d45dadf22d192756abc5f73e39f9c7f10cba5aa\n",
      "Status: Image is up to date for python:latest\n",
      "docker.io/library/python:latest\n"
     ]
    }
   ],
   "source": [
    "%%bash\n",
    "docker pull python:latest"
   ]
  },
  {
   "cell_type": "markdown",
   "id": "000dd6ee-285e-46a2-92bd-2672ed06ae24",
   "metadata": {},
   "source": [
    "And finally we list again the contents of the local cache"
   ]
  },
  {
   "cell_type": "code",
   "execution_count": 8,
   "id": "1ac6332e-d86f-452e-b4c9-9327cd6abf32",
   "metadata": {},
   "outputs": [
    {
     "name": "stdout",
     "output_type": "stream",
     "text": [
      "REPOSITORY   TAG       IMAGE ID       CREATED          SIZE\n",
      "cygno        test      6f56c877838e   2 seconds ago    1.13GB\n",
      "custom_np    test      1c254538077c   37 minutes ago   1.12GB\n",
      "numpy        test      680b4389bfdb   37 minutes ago   1.12GB\n",
      "python       3.11      22c957c35e37   2 weeks ago      1.01GB\n",
      "python       latest    22c957c35e37   2 weeks ago      1.01GB\n"
     ]
    }
   ],
   "source": [
    "%%bash\n",
    "docker image list"
   ]
  },
  {
   "cell_type": "markdown",
   "id": "91b36846-fd4e-41ab-ace0-822731f7a0e8",
   "metadata": {},
   "source": [
    "You should have seen `python:latest` appearing in the list.\n",
    "\n",
    "Note that:\n",
    " * `python` (before the colon) is named the **Repository**\n",
    " * `latest` (after the colon) is named the **tag** and usually indicates a specific version of the software made available in the repository. Python in this case.\n",
    "\n",
    "If you want to know more on what you have downloaded you can visit the dedicated documentation in Dockerhub.\n",
    "\n",
    "For example, for python:latest see https://hub.docker.com/_/python."
   ]
  },
  {
   "cell_type": "markdown",
   "id": "289ca355-a511-4f76-94fd-fc50e29ff2eb",
   "metadata": {},
   "source": [
    "## Executing code in a container\n",
    "\n",
    "Ok, now we have a local copy of the latest version of the Python container. \n",
    "\n",
    "Let's try to execute some code in the container. For example, let's print the python version (in a fancy way)"
   ]
  },
  {
   "cell_type": "code",
   "execution_count": 9,
   "id": "438f5e3d-d13e-433c-b4d1-8f3d6f9420ec",
   "metadata": {},
   "outputs": [
    {
     "name": "stdout",
     "output_type": "stream",
     "text": [
      "3.11.5 (main, Sep  7 2023, 12:36:05) [GCC 12.2.0]\n"
     ]
    }
   ],
   "source": [
    "%%bash \n",
    "docker run python:latest python3 -c \"import sys; print (sys.version)\""
   ]
  },
  {
   "cell_type": "markdown",
   "id": "bb40e6ae-03a7-4313-8108-9ee41e00acd4",
   "metadata": {},
   "source": [
    "The line of code above has:\n",
    " * checked if the image `python:latest` is available locally (it would have pulled it otherwise)\n",
    " * spawned a container based on the image `python:latest`\n",
    " * executed the command `python3` with arguments `-c \"import sys; print (sys.version)\"` inside the spawned container\n",
    " * retrieved the standard output (and the standard error, empty here) stream\n",
    " * destroyed the container "
   ]
  },
  {
   "cell_type": "markdown",
   "id": "718fcf6b-8293-42eb-8386-b536de8d3df2",
   "metadata": {},
   "source": [
    "### Detached containers\n",
    "If the execution of the task in the container is long, it may be worth to start the container in *detached mode*. \n",
    "In this way, it will not stop the jupyter notebook (or the shell) it is launched from, but will run in background.\n",
    "\n",
    "To execute a command in a new container, in detached mode, you can use the `-d` or `--detach` flags."
   ]
  },
  {
   "cell_type": "code",
   "execution_count": 10,
   "id": "57183859-1234-49e7-8bd8-5e8c269ca175",
   "metadata": {},
   "outputs": [
    {
     "name": "stdout",
     "output_type": "stream",
     "text": [
      "b9a093e458d4060d8b8d26dadee350fc7ffe4580a05f573fb31fe07c50b32cc6\n"
     ]
    }
   ],
   "source": [
    "%%bash \n",
    "docker run --detach python:latest python3 -c \"import time; time.sleep(30)\""
   ]
  },
  {
   "cell_type": "markdown",
   "id": "ee00b709-9a7e-4a23-8b9a-a7c4a74a4264",
   "metadata": {},
   "source": [
    "> **Important notice**. The docker command line inteface is rather rigid on the order of the arguments:\n",
    ">  * first you have `docker` (of course)\n",
    ">  * then you have the docker command (in this case `run`)\n",
    ">  * then you have the options to the docker command (in this case `--detach`)\n",
    ">  * then the image\n",
    ">  * and finally what has to happen inside the image (in the case of the `run` command, the instructions to be executed)\n",
    "> Mixing the arguments, for example placing the `--detach` after the image name is a common mistake that results in an error"
   ]
  },
  {
   "cell_type": "markdown",
   "id": "e9440bfd-6aab-4321-b482-e6832e1f42c6",
   "metadata": {},
   "source": [
    "## Listing the active containers\n",
    "\n",
    "You can list the active containers with `docker ps`.\n",
    "If you run the following cell immediately after the previous one, you should see a container with `IMAGE` `python:latest` running.\n",
    "If you wait more than 30 seconds, the container will finish its job and will be deallocated: you will see nothing running."
   ]
  },
  {
   "cell_type": "code",
   "execution_count": 11,
   "id": "b7c42b70-4800-4615-9607-5116696b873e",
   "metadata": {},
   "outputs": [
    {
     "name": "stdout",
     "output_type": "stream",
     "text": [
      "CONTAINER ID   IMAGE           COMMAND                  CREATED         STATUS                  PORTS     NAMES\n",
      "b9a093e458d4   python:latest   \"python3 -c 'import …\"   7 seconds ago   Up Less than a second             modest_mclean\n"
     ]
    }
   ],
   "source": [
    "%%bash\n",
    "docker ps"
   ]
  },
  {
   "cell_type": "markdown",
   "id": "a23a7e45-7f68-4d23-b9d0-f25eaa54c27d",
   "metadata": {},
   "source": [
    "### Customizing the image\n",
    "\n",
    "Let's try to run a command involving numpy. Importing it is enough to the purpose."
   ]
  },
  {
   "cell_type": "code",
   "execution_count": 12,
   "id": "f9b06f52-fd68-40a7-8872-8fde344626a5",
   "metadata": {},
   "outputs": [
    {
     "name": "stderr",
     "output_type": "stream",
     "text": [
      "Traceback (most recent call last):\n",
      "  File \"<string>\", line 1, in <module>\n",
      "ModuleNotFoundError: No module named 'numpy'\n"
     ]
    },
    {
     "name": "stdout",
     "output_type": "stream",
     "text": [
      "An error was ignored.\n"
     ]
    }
   ],
   "source": [
    "%%bash\n",
    "docker run python:latest python3 -c \"import numpy as np\" || echo \"An error was ignored.\""
   ]
  },
  {
   "cell_type": "markdown",
   "id": "0bb900cd-cfc1-48cf-bf20-7a5c6907ced0",
   "metadata": {},
   "source": [
    "You get an error because numpy is not preinstalled in the `python:latest` image.\n",
    "\n",
    "We need to create our custom image, inheriting from `python:latest`, but this time with numpy.\n",
    "\n",
    "The first thing we need to do is to create a file, usually known as `Dockerfile` that describes this workflow. "
   ]
  },
  {
   "cell_type": "code",
   "execution_count": 13,
   "id": "8d28bf93-4c15-4131-8502-262842247127",
   "metadata": {},
   "outputs": [
    {
     "name": "stdout",
     "output_type": "stream",
     "text": [
      "Overwriting Dockerfile\n"
     ]
    }
   ],
   "source": [
    "%%writefile Dockerfile\n",
    "\n",
    "## FROM is a Dockerfile keyword that defines the image we are inheriting from.\n",
    "## If the image is not available locally, it is automatically pulled from Dockerhub.\n",
    "FROM python:latest\n",
    "\n",
    "## RUN is a Dockerfile keyword that defines a task to be performed on top of the \n",
    "## inherited image. These instructions are run only at \"build-time\", they are not \n",
    "## running when you spawn the container, but once for all, to edit the image.\n",
    "RUN pip install numpy"
   ]
  },
  {
   "cell_type": "markdown",
   "id": "de8b03e9-aa8a-4f56-a1b7-1096bc720c4c",
   "metadata": {},
   "source": [
    "Then, we can run the `docker build` command to digest the Dockerfile description and build a new image."
   ]
  },
  {
   "cell_type": "code",
   "execution_count": 14,
   "id": "53afb562-2492-46c9-a9ef-5c1bc929aba4",
   "metadata": {},
   "outputs": [
    {
     "name": "stderr",
     "output_type": "stream",
     "text": [
      "#0 building with \"default\" instance using docker driver\n",
      "\n",
      "#1 [internal] load .dockerignore\n",
      "#1 transferring context: 2B done\n",
      "#1 ...\n",
      "\n",
      "#2 [internal] load build definition from Dockerfile\n",
      "#2 transferring dockerfile: 489B done\n",
      "#2 DONE 0.2s\n",
      "\n",
      "#1 [internal] load .dockerignore\n",
      "#1 DONE 0.6s\n",
      "\n",
      "#3 [internal] load metadata for docker.io/library/python:latest\n",
      "#3 DONE 0.0s\n",
      "\n",
      "#4 [1/2] FROM docker.io/library/python:latest\n",
      "#4 DONE 0.0s\n",
      "\n",
      "#5 [2/2] RUN pip install numpy\n",
      "#5 CACHED\n",
      "\n",
      "#6 exporting to image\n",
      "#6 exporting layers done\n",
      "#6 writing image sha256:680b4389bfdbc66ca303cdb01d933ec3a697fc395422744e1c24151bbd96bddb 0.0s done\n",
      "#6 naming to docker.io/library/numpy:test done\n",
      "#6 DONE 0.0s\n"
     ]
    }
   ],
   "source": [
    "%%bash\n",
    "docker build . -t numpy:test "
   ]
  },
  {
   "cell_type": "markdown",
   "id": "3025a0df-99b4-4463-a03e-5cf3c9d8ad95",
   "metadata": {},
   "source": [
    "See how it appears in `docker image list`:"
   ]
  },
  {
   "cell_type": "code",
   "execution_count": 15,
   "id": "6af8cd47-516a-45d1-8e17-5d02cb36975b",
   "metadata": {},
   "outputs": [
    {
     "name": "stdout",
     "output_type": "stream",
     "text": [
      "REPOSITORY   TAG       IMAGE ID       CREATED          SIZE\n",
      "cygno        test      6f56c877838e   26 seconds ago   1.13GB\n",
      "custom_np    test      1c254538077c   37 minutes ago   1.12GB\n",
      "numpy        test      680b4389bfdb   37 minutes ago   1.12GB\n",
      "python       3.11      22c957c35e37   2 weeks ago      1.01GB\n",
      "python       latest    22c957c35e37   2 weeks ago      1.01GB\n"
     ]
    }
   ],
   "source": [
    "%%bash\n",
    "docker image list"
   ]
  },
  {
   "cell_type": "markdown",
   "id": "4d5358f1-c33f-48c4-b3b1-abb45ed41a76",
   "metadata": {},
   "source": [
    "And see how it fixes the error we got before."
   ]
  },
  {
   "cell_type": "code",
   "execution_count": 16,
   "id": "18c35455-d214-4c96-8388-4766ff8c9cda",
   "metadata": {},
   "outputs": [],
   "source": [
    "%%bash\n",
    "docker run numpy:test python3 -c \"import numpy as np\""
   ]
  },
  {
   "cell_type": "markdown",
   "id": "ff9906dc-6b26-401a-9416-58bf6a3d889d",
   "metadata": {},
   "source": [
    "## Installing custom software in the image\n",
    "So far we have seen how to install software from online repositories inside your Docker image, but what if the software we want to install is local?\n",
    "Then you can use the `COPY` command.\n",
    "\n",
    "Consider the following \"extremely complicated and unique custo software module\" entierly stored in the file `my_custom_module.py`.\n"
   ]
  },
  {
   "cell_type": "code",
   "execution_count": 17,
   "id": "ca4fecad-da8d-494a-8aa9-62ff431df111",
   "metadata": {},
   "outputs": [
    {
     "name": "stdout",
     "output_type": "stream",
     "text": [
      "Overwriting my_custom_module.py\n"
     ]
    }
   ],
   "source": [
    "%%writefile my_custom_module.py\n",
    "\n",
    "import numpy as np\n",
    "\n",
    "def greetings():\n",
    "    \"\"\"Print hello numpy and a random number in the interval 0-1\"\"\"\n",
    "    print (f\"Hello numpy, {np.random.uniform(0, 1):.3f}\")\n"
   ]
  },
  {
   "cell_type": "markdown",
   "id": "2733e4ee-19fb-4c12-853c-acf6cdea02ce",
   "metadata": {},
   "source": [
    "Then we edit the Dockerfile to add the `COPY` instruction and we build the image."
   ]
  },
  {
   "cell_type": "code",
   "execution_count": 18,
   "id": "9e0a7db8-bbcd-49c1-acfe-25a492025ff0",
   "metadata": {},
   "outputs": [
    {
     "name": "stdout",
     "output_type": "stream",
     "text": [
      "Overwriting Dockerfile\n"
     ]
    }
   ],
   "source": [
    "%%writefile Dockerfile\n",
    "\n",
    "## FROM is a Dockerfile keyword that defines the image we are inheriting from.\n",
    "## If the image is not available locally, it is automatically pulled from Dockerhub.\n",
    "FROM python:latest\n",
    "\n",
    "## RUN is a Dockerfile keyword that defines a task to be performed on top of the \n",
    "## inherited image. These instructions are run only at \"build-time\", they are not \n",
    "## running when you spawn the container, but once for all, to edit the image.\n",
    "RUN pip install numpy\n",
    "\n",
    "## We write in the image the custom software module\n",
    "COPY my_custom_module.py ./my_custom_module.py"
   ]
  },
  {
   "cell_type": "markdown",
   "id": "b6f5f82b-62dc-4cb8-b78d-8738e6c7ab34",
   "metadata": {},
   "source": [
    "Finally, we build the image (naming it `custom_np`) and we run some code that requires numpy to be executed."
   ]
  },
  {
   "cell_type": "code",
   "execution_count": 19,
   "id": "c723a2a0-38fe-403b-a562-f204aa7c0b5c",
   "metadata": {},
   "outputs": [
    {
     "name": "stderr",
     "output_type": "stream",
     "text": [
      "#0 building with \"default\" instance using docker driver\n",
      "\n",
      "#1 [internal] load build definition from Dockerfile\n",
      "#1 transferring dockerfile: 589B done\n",
      "#1 DONE 1.1s\n",
      "\n",
      "#2 [internal] load .dockerignore\n",
      "#2 transferring context: 2B done\n",
      "#2 DONE 1.1s\n",
      "\n",
      "#3 [internal] load metadata for docker.io/library/python:latest\n",
      "#3 DONE 0.0s\n",
      "\n",
      "#4 [1/3] FROM docker.io/library/python:latest\n",
      "#4 DONE 0.0s\n",
      "\n",
      "#5 [internal] load build context\n",
      "#5 transferring context: 212B done\n",
      "#5 DONE 0.3s\n",
      "\n",
      "#6 [2/3] RUN pip install numpy\n",
      "#6 CACHED\n",
      "\n",
      "#7 [3/3] COPY my_custom_module.py ./my_custom_module.py\n",
      "#7 CACHED\n",
      "\n",
      "#8 exporting to image\n",
      "#8 exporting layers done\n",
      "#8 writing image sha256:1c254538077c428e792714f699e9fad72e13124ff1b9d29917021ac0a6aafb6b 0.1s done\n",
      "#8 naming to docker.io/library/custom_np:test\n",
      "#8 naming to docker.io/library/custom_np:test 0.1s done\n",
      "#8 DONE 0.2s\n"
     ]
    },
    {
     "name": "stdout",
     "output_type": "stream",
     "text": [
      "Hello numpy, 0.220\n"
     ]
    }
   ],
   "source": [
    "%%bash\n",
    "## Build the custom_np image \n",
    "docker build -t custom_np:test .\n",
    "## Run code accessing the custom module\n",
    "docker run custom_np:test python3 -c \"from my_custom_module import greetings; greetings()\""
   ]
  },
  {
   "cell_type": "markdown",
   "id": "82b092dc-a535-4090-98f9-2a125d82a779",
   "metadata": {},
   "source": [
    "## Sharing data (volumes) with the container\n",
    "\n",
    "Storing custom code and data in the Docker image is great for software distribution, but it is most often the wrong solution to provide input data to the code running in the docker.\n",
    "As an alternative, one can share a volume of the host (the filesystem where you are running this notebook, in this case) to the container.\n",
    "This can be achieved with the `--volume` or `-v` flags of the `docker run` command (see [docs](https://docs.docker.com/engine/reference/commandline/run/#volume)).\n",
    "\n",
    "The syntax is as follows:\n",
    "```bash\n",
    "docker run \n",
    " -v <path_in_host_filesystem>:<path_in_the_container>\n",
    " image_name:tag\n",
    " [command]\n",
    "```\n",
    "\n",
    "For example, let's create an input data file containing an array of random numbers normally distributed. We will store it in `data/file.npz`."
   ]
  },
  {
   "cell_type": "code",
   "execution_count": 20,
   "id": "ae011909-de0b-4e2f-8238-61d374d30396",
   "metadata": {},
   "outputs": [],
   "source": [
    "## First we check if the data folder exists. If it does not, we create it.\n",
    "import os \n",
    "if not os.path.exists(\"data\"): \n",
    "    os.mkdir(\"data\")\n",
    "\n",
    "## Then we import numpy and we use it to create and store a random dataset in the data folder.\n",
    "import numpy as np\n",
    "np.savez(\"data/file.npz\", dataset=np.random.normal(0, 1, 1000))"
   ]
  },
  {
   "cell_type": "markdown",
   "id": "ef4c3d87-0e0a-4d5f-b6c8-8035b54ad574",
   "metadata": {},
   "source": [
    "Then, we write a simple line of code to read the data file and compute the mean.\n",
    "\n",
    "> Note that the paths, both for the host and the container, must be absolute paths.\n",
    "> We use the $PWD environment variable to make this step installation independent.\n",
    ">\n",
    "Note that, inside the docker, in our snippet to read the array and compute its mean, we must look for the file in the location where it has been mounted (`/my_mounted_volume`), rather than in the original `data/` folder. "
   ]
  },
  {
   "cell_type": "code",
   "execution_count": 21,
   "id": "7feb8ff7-1c13-4218-93f9-393d870be0d8",
   "metadata": {},
   "outputs": [
    {
     "name": "stdout",
     "output_type": "stream",
     "text": [
      "0.03574120443484179\n"
     ]
    }
   ],
   "source": [
    "%%bash\n",
    "docker run \\\n",
    " -v $PWD/data:/my_mounted_volume \\\n",
    " numpy:test \\\n",
    " python3 -c \"import numpy as np; print (np.load('/my_mounted_volume/file.npz')['dataset'].mean());\""
   ]
  },
  {
   "cell_type": "markdown",
   "id": "6bd705e3-5766-4575-8e9e-e004e289f0fa",
   "metadata": {},
   "source": [
    "Of course, nothing prevents you to intend *software* as a kind of *input data*. \n",
    "\n",
    "For example for defining a configuration, or to ease the debugging during the development phase, you can simply share with the container snippets of code.\n",
    "\n",
    "In the cell below, we rewrite the one-line snippet in a more readable and maintainable format.\n",
    "Then, we store it in `data/script.py` to make it \"visible\" from the docker.\n"
   ]
  },
  {
   "cell_type": "code",
   "execution_count": 22,
   "id": "71f4fa71-310e-4757-8a45-5d0e428389b7",
   "metadata": {},
   "outputs": [
    {
     "name": "stdout",
     "output_type": "stream",
     "text": [
      "Overwriting data/script.py\n"
     ]
    }
   ],
   "source": [
    "%%writefile data/script.py\n",
    "\n",
    "import numpy as np \n",
    "print (\"Hello! You are running a script defined in data/script.py\")\n",
    "dataset = np.load('/my_mounted_volume/file.npz')['dataset']\n",
    "print (dataset.mean())"
   ]
  },
  {
   "cell_type": "markdown",
   "id": "fb6ef464-994e-47e3-850b-c58258f47e03",
   "metadata": {},
   "source": [
    "Then, you can simply run the script from the mounted volume, and retrieve your output!"
   ]
  },
  {
   "cell_type": "code",
   "execution_count": 23,
   "id": "97d36012-f5b2-4d45-b3a0-931bf27e7bac",
   "metadata": {},
   "outputs": [
    {
     "name": "stdout",
     "output_type": "stream",
     "text": [
      "Hello! You are running a script defined in data/script.py\n",
      "0.03574120443484179\n"
     ]
    }
   ],
   "source": [
    "%%bash\n",
    "docker run \\\n",
    "  -v $PWD/data:/my_mounted_volume \\\n",
    "  numpy:test \\\n",
    "  python3 /my_mounted_volume/script.py"
   ]
  },
  {
   "cell_type": "markdown",
   "id": "8c65e5a4-531f-4b08-a3eb-fb2138711554",
   "metadata": {},
   "source": [
    "## Python bindings\n",
    "\n",
    "We close this introduction by introducing the Python bindings to the Docker engine, which provide an interesting alternative to the Command-Line Interface (CLI) when more complex setups must be described. \n",
    "\n",
    "Starting from an environment where the command line works properly, one can inherit the working configuration generating an instance for the docker client from the environment."
   ]
  },
  {
   "cell_type": "code",
   "execution_count": 24,
   "id": "544ba30c-f525-4f6a-9d5c-57e05e46ded2",
   "metadata": {},
   "outputs": [],
   "source": [
    "import docker\n",
    "\n",
    "docker_client = docker.from_env()"
   ]
  },
  {
   "cell_type": "markdown",
   "id": "e08f8823-f2eb-4e10-bba0-62fc67d7cff7",
   "metadata": {},
   "source": [
    "Once the client is set up, it can be used to retrieve all the information on the images and the containers discussed above, as python structures."
   ]
  },
  {
   "cell_type": "code",
   "execution_count": 25,
   "id": "93311959-e2e9-4a4b-a3c3-7a272f4f696b",
   "metadata": {},
   "outputs": [
    {
     "data": {
      "text/plain": [
       "[<Image: 'cygno:test'>,\n",
       " <Image: 'custom_np:test'>,\n",
       " <Image: 'numpy:test'>,\n",
       " <Image: 'python:3.11', 'python:latest'>]"
      ]
     },
     "execution_count": 25,
     "metadata": {},
     "output_type": "execute_result"
    }
   ],
   "source": [
    "docker_client.images.list()"
   ]
  },
  {
   "cell_type": "code",
   "execution_count": 26,
   "id": "c34011bc-0f39-4ce0-894e-f060d40e1398",
   "metadata": {},
   "outputs": [
    {
     "data": {
      "text/plain": [
       "[]"
      ]
     },
     "execution_count": 26,
     "metadata": {},
     "output_type": "execute_result"
    }
   ],
   "source": [
    "docker_client.containers.list()"
   ]
  },
  {
   "cell_type": "markdown",
   "id": "bec061d0-4873-4f9d-aec8-9ed66c88bcd3",
   "metadata": {},
   "source": [
    "Containers can be spawned and volumes can be attached, exactly in the same way as we did from the command line, but with Python syntax for easier integration in Python applications."
   ]
  },
  {
   "cell_type": "code",
   "execution_count": 27,
   "id": "8f78c023-d67b-4c20-9a18-001c39e9d607",
   "metadata": {},
   "outputs": [
    {
     "data": {
      "text/plain": [
       "b'Hello world\\n'"
      ]
     },
     "execution_count": 27,
     "metadata": {},
     "output_type": "execute_result"
    }
   ],
   "source": [
    "docker_client.containers.run(\"numpy:test\", \"\"\"python3 -c \"print('Hello world')\" \"\"\")"
   ]
  },
  {
   "cell_type": "code",
   "execution_count": 28,
   "id": "e15bbae9-5cf3-4116-a5f4-94c13131dcab",
   "metadata": {},
   "outputs": [
    {
     "data": {
      "text/plain": [
       "b'Hello! You are running a script defined in data/script.py\\n0.03574120443484179\\n'"
      ]
     },
     "execution_count": 28,
     "metadata": {},
     "output_type": "execute_result"
    }
   ],
   "source": [
    "docker_client.containers.run(\"numpy:test\", \"python my_mounted_volume/script.py\", volumes={os.path.join(os.getcwd(), \"data\"): dict(bind=\"/my_mounted_volume\")})"
   ]
  }
 ],
 "metadata": {
  "kernelspec": {
   "display_name": "Python 3 (ipykernel)",
   "language": "python",
   "name": "python3"
  },
  "language_info": {
   "codemirror_mode": {
    "name": "ipython",
    "version": 3
   },
   "file_extension": ".py",
   "mimetype": "text/x-python",
   "name": "python",
   "nbconvert_exporter": "python",
   "pygments_lexer": "ipython3",
   "version": "3.10.12"
  }
 },
 "nbformat": 4,
 "nbformat_minor": 5
}
